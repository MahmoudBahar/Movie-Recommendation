{
 "cells": [
  {
   "cell_type": "code",
   "execution_count": 2,
   "id": "427fa95d-21cc-4ea4-a703-8ae49ae7cd99",
   "metadata": {},
   "outputs": [],
   "source": [
    "%%writefile stream_router.py\n",
    "import streamlit as st\n",
    "import pandas as pd\n",
    "import requests\n",
    "from io import BytesIO\n",
    "\n",
    "st.set_page_config(page_icon= \"🎬\", page_title=\"Movie Recommendation\", layout=\"wide\", initial_sidebar_state='collapsed')\n",
    "\n",
    "pg = st.navigation([st.Page(\"./Pages/overview_page.py\",\n",
    "                            title=\"Overview\",\n",
    "                            icon=\":material/overview:\",\n",
    "                            default=True\n",
    "                           ),\n",
    "                    st.Page(\"./Pages/model_page.py\",\n",
    "                            title=\"Map Analysis\",\n",
    "                            icon=\":material/map:\",\n",
    "                            default=False\n",
    "                           ),\n",
    "                    st.Page(\"./Pages/analysis_page.py\",\n",
    "                            title=\"Analysis\",\n",
    "                            icon=\":material/analytics:\",\n",
    "                            default=False\n",
    "                           )])\n",
    "pg.run()\n"
   ]
  },
  {
   "cell_type": "code",
   "execution_count": 30,
   "id": "4549b44c-cc57-4d70-a57b-285c9a521e65",
   "metadata": {},
   "outputs": [
    {
     "name": "stdout",
     "output_type": "stream",
     "text": [
      "Overwriting ./Pages/overview_page.py\n"
     ]
    }
   ],
   "source": [
    "%%writefile ./Pages/overview_page.py\n",
    "\n",
    "import streamlit as st\n",
    "from PIL import Image\n",
    "# Load banner image\n",
    "@st.cache_resource\n",
    "def load_image():\n",
    "    image = Image.open(\"banner.jpg\")\n",
    "    # Define a new width while maintaining aspect ratio\n",
    "    new_height = 200  # Desired width\n",
    "    aspect_ratio = image.height / image.width\n",
    "    new_width = int(new_height / aspect_ratio)\n",
    "    resized_image = image.resize((new_width, new_height))\n",
    "    return resized_image\n",
    "\n",
    "banner_image = load_image()\n",
    "\n",
    "# Display header with background image\n",
    "st.image(banner_image, use_container_width=True)\n",
    "\n",
    "st.title(\"🎥 Movie Magic: Your Personalized Recommendation Dashboard\")\n",
    "st.write(\n",
    "    \"\"\"\n",
    "Welcome to **Movie Magic**, where discovering your next favorite movie is just a click away!\n",
    "Dive into a world of cinema with personalized recommendations, insightful analytics, and an exploration of trends in the movie industry.\n",
    "\"\"\"\n",
    ")\n",
    "\n",
    "# Add interactive buttons to direct users\n",
    "st.subheader(\"🎬 Let the Magic Begin!\")\n",
    "col1, col2, col3 = st.columns(3)\n",
    "\n",
    "with col1:\n",
    "    if st.button(\"💡 Get Recommendations\"):\n",
    "        st.session_state.page = \"Recommendations\"  # Optionally navigate or guide\n",
    "\n",
    "with col2:\n",
    "    if st.button(\"📊 Explore Analytics\"):\n",
    "        st.session_state.page = \"Analytics\"  # Optionally navigate or guide\n",
    "\n",
    "with col3:\n",
    "    if st.button(\"🌟 About the Model\"):\n",
    "        st.session_state.page = \"Home\"  # Optionally navigate or guide\n",
    "\n",
    "# Add a quick movie search box\n",
    "st.markdown(\"---\")\n",
    "st.subheader(\"🎥 Quick Movie Search\")\n",
    "user_input = st.text_input(\"Search for a movie to explore its details:\")\n",
    "if user_input:\n",
    "    st.info(f\"Searching for: {user_input} (Feature under construction!)\")\n",
    "\n",
    "# Add a fun fact or inspirational quote about movies\n",
    "st.markdown(\"---\")\n",
    "st.subheader(\"🎞️ Did You Know?\")\n",
    "st.markdown(\n",
    "    \"\"\"\n",
    "    > *\"Movies touch our hearts and awaken our vision, and change the way we see things. They take us to other places, they open doors and minds.\"*  \n",
    "    — **Martin Scorsese**\n",
    "    \"\"\"\n",
    ")\n"
   ]
  },
  {
   "cell_type": "code",
   "execution_count": 8,
   "id": "e4888378-2045-4762-9138-90c26395c011",
   "metadata": {},
   "outputs": [
    {
     "name": "stdout",
     "output_type": "stream",
     "text": [
      "Overwriting ./Pages/model_page.py\n"
     ]
    }
   ],
   "source": [
    "%%writefile ./Pages/model_page.py\n",
    "\n",
    "print(\"hello\")"
   ]
  },
  {
   "cell_type": "code",
   "execution_count": 10,
   "id": "28732f0f-b70b-4792-8d7e-bafcb29a932e",
   "metadata": {},
   "outputs": [
    {
     "name": "stdout",
     "output_type": "stream",
     "text": [
      "Writing ./Pages/analysis_page.py\n"
     ]
    }
   ],
   "source": [
    "%%writefile ./Pages/analysis_page.py\n",
    "\n",
    "print(\"Hello\")"
   ]
  },
  {
   "cell_type": "code",
   "execution_count": null,
   "id": "b2ed0dc0-ad6f-4d75-b42b-6c1cac8db25a",
   "metadata": {},
   "outputs": [],
   "source": []
  }
 ],
 "metadata": {
  "kernelspec": {
   "display_name": "Python 3 (ipykernel)",
   "language": "python",
   "name": "python3"
  },
  "language_info": {
   "codemirror_mode": {
    "name": "ipython",
    "version": 3
   },
   "file_extension": ".py",
   "mimetype": "text/x-python",
   "name": "python",
   "nbconvert_exporter": "python",
   "pygments_lexer": "ipython3",
   "version": "3.12.7"
  }
 },
 "nbformat": 4,
 "nbformat_minor": 5
}
